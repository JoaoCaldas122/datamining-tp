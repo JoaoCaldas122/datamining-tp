{
 "cells": [
  {
   "cell_type": "code",
   "execution_count": 5,
   "id": "3aeede81",
   "metadata": {},
   "outputs": [],
   "source": [
    "import pandas as pd\n",
    "import numpy as np\n",
    "\n",
    "#treino = pd.read_csv('merged_treinofinal.csv')\n",
    "treino = pd.read_csv('TH.csv')"
   ]
  },
  {
   "cell_type": "code",
   "execution_count": 6,
   "id": "05b0bfc0",
   "metadata": {},
   "outputs": [],
   "source": [
    "treino['Data'] = pd.to_datetime(treino['Data']).dt.date"
   ]
  },
  {
   "cell_type": "code",
   "execution_count": 7,
   "id": "ed86994e",
   "metadata": {},
   "outputs": [],
   "source": [
    "import datetime\n",
    "#Horário de verão ou inverno\n",
    "treino['Horario'] = 1\n",
    "\n",
    "treino.loc[treino['Data'] < datetime.date(2023,3,26), 'Horario'] = 0\n",
    "treino.loc[treino['Data'] < datetime.date(2022,10,30), 'Horario'] = 1\n",
    "treino.loc[treino['Data'] < datetime.date(2022,3,27), 'Horario'] = 0\n",
    "treino.loc[treino['Data'] < datetime.date(2021,10,31), 'Horario'] = 1\n",
    "treino.loc[treino['Data'] < datetime.date(2021,3,28), 'Horario'] = 0\n",
    "treino.loc[treino['Data'] < datetime.date(2020,10,25), 'Horario'] = 1\n",
    "treino.loc[treino['Data'] < datetime.date(2020,3,29), 'Horario'] = 0\n",
    "treino.loc[treino['Data'] < datetime.date(2019,10,27), 'Horario'] = 1\n",
    "treino.loc[treino['Data'] < datetime.date(2019,3,31), 'Horario'] = 0\n",
    "treino.loc[treino['Data'] < datetime.date(2018,10,28), 'Horario'] = 1\n",
    "\n",
    "treino['hora_noite'] = pd.to_datetime(treino['hora_noite'])\n",
    "treino.loc[treino['Horario'] == 1, 'hora_noite'] = treino.loc[treino['Horario'] == 1, 'hora_noite'] + pd.Timedelta(hours=1)\n",
    "treino['hora_noite'] = treino['hora_noite'].dt.time\n",
    "\n",
    "treino['Horário'] = pd.to_datetime(treino['Horário']).dt.time\n",
    "treino['Noite'] = treino['Horário'] > treino['hora_noite']"
   ]
  },
  {
   "cell_type": "code",
   "execution_count": 8,
   "id": "b36df7b2",
   "metadata": {},
   "outputs": [
    {
     "data": {
      "text/plain": [
       "False    923\n",
       "True     301\n",
       "Name: Noite, dtype: int64"
      ]
     },
     "execution_count": 8,
     "metadata": {},
     "output_type": "execute_result"
    }
   ],
   "source": [
    "treino['Noite'].value_counts()"
   ]
  },
  {
   "cell_type": "code",
   "execution_count": 9,
   "id": "953900fe",
   "metadata": {},
   "outputs": [],
   "source": [
    "treino['dif'] = treino['goals_home'] - treino['goals_away']\n",
    "treino['xg_dif'] = treino['xG_home'] - treino['xG_away']\n",
    "\n",
    "treino.loc[treino['dif']>0, 'result'] = 'H'\n",
    "treino.loc[treino['dif']==0, 'result'] = 'D'\n",
    "treino.loc[treino['dif']<0, 'result'] = 'A'"
   ]
  },
  {
   "cell_type": "code",
   "execution_count": 10,
   "id": "4abdf185",
   "metadata": {},
   "outputs": [],
   "source": [
    "#Define o favorito\n",
    "treino.loc[treino['B365H'] < 2.26, 'fav'] = 'H'\n",
    "treino.loc[treino['B365H'] < 1.40, 'fav'] = 'HH'\n",
    "treino.loc[treino['B365A'] < 2.26, 'fav'] = 'A'\n",
    "treino.loc[treino['B365A'] < 1.40, 'fav'] = 'AA'\n",
    "treino.loc[treino['fav'].isna(), 'fav'] = 'D'"
   ]
  },
  {
   "cell_type": "code",
   "execution_count": 11,
   "id": "1f19cccc",
   "metadata": {},
   "outputs": [
    {
     "data": {
      "image/png": "[encoded data removed]",
      "text/plain": [
       "<Figure size 640x480 with 1 Axes>"
      ]
     },
     "metadata": {},
     "output_type": "display_data"
    }
   ],
   "source": [
    "import matplotlib.pyplot as plt\n",
    "order = ['H', 'D', 'A']\n",
    "category_order = ['HH', 'H', 'D', 'A', 'AA']\n",
    "\n",
    "# Convert 'x' column to categorical data type with the specified order\n",
    "treino['fav'] = pd.Categorical(treino['fav'], categories=category_order, ordered=True)\n",
    "treino['result'] = pd.Categorical(treino['result'], categories=order, ordered=True)\n",
    "\n",
    "# Calculate the percentage of values in column 'y' for each unique value in column 'x'\n",
    "result = treino.groupby('fav')['result'].value_counts(normalize=True) * 100\n",
    "\n",
    "# Criar o gráfico de barras\n",
    "result.unstack().plot(kind='bar',stacked=True)\n",
    "\n",
    "# Configurar os rótulos dos eixos\n",
    "plt.xlabel('Favorito')\n",
    "plt.ylabel('Percentagem')\n",
    "\n",
    "# Exibir o gráfico\n",
    "plt.show()"
   ]
  },
  {
   "cell_type": "code",
   "execution_count": 12,
   "id": "476efcdb",
   "metadata": {},
   "outputs": [
    {
     "data": {
      "text/plain": [
       "<AxesSubplot: ylabel='fav'>"
      ]
     },
     "execution_count": 12,
     "metadata": {},
     "output_type": "execute_result"
    },
    {
     "data": {
      "image/png": "[encoded data removed]",
      "text/plain": [
       "<Figure size 640x480 with 2 Axes>"
      ]
     },
     "metadata": {},
     "output_type": "display_data"
    }
   ],
   "source": [
    "import seaborn as sns\n",
    "#Fazer reverse ao cmap\n",
    "\n",
    "order = ['H', 'D', 'A']\n",
    "\n",
    "sns.heatmap(treino[['fav','B365H','B365D','B365A']].groupby('fav').mean().rename({'B365H': 'H','B365D': 'D', 'B365A': 'A'}, axis=1) - result.unstack()[order].reindex(['HH', 'H', 'D', 'A', 'AA']))"
   ]
  },
  {
   "cell_type": "code",
   "execution_count": 13,
   "id": "436fe8d7",
   "metadata": {},
   "outputs": [
    {
     "data": {
      "text/html": [
       "<div>\n",
       "<style scoped>\n",
       "    .dataframe tbody tr th:only-of-type {\n",
       "        vertical-align: middle;\n",
       "    }\n",
       "\n",
       "    .dataframe tbody tr th {\n",
       "        vertical-align: top;\n",
       "    }\n",
       "\n",
       "    .dataframe thead th {\n",
       "        text-align: right;\n",
       "    }\n",
       "</style>\n",
       "<table border=\"1\" class=\"dataframe\">\n",
       "  <thead>\n",
       "    <tr style=\"text-align: right;\">\n",
       "      <th></th>\n",
       "      <th>result</th>\n",
       "    </tr>\n",
       "    <tr>\n",
       "      <th>Horário</th>\n",
       "      <th></th>\n",
       "    </tr>\n",
       "  </thead>\n",
       "  <tbody>\n",
       "    <tr>\n",
       "      <th>12:45:00</th>\n",
       "      <td>1</td>\n",
       "    </tr>\n",
       "    <tr>\n",
       "      <th>13:00:00</th>\n",
       "      <td>1</td>\n",
       "    </tr>\n",
       "    <tr>\n",
       "      <th>14:00:00</th>\n",
       "      <td>3</td>\n",
       "    </tr>\n",
       "    <tr>\n",
       "      <th>14:30:00</th>\n",
       "      <td>13</td>\n",
       "    </tr>\n",
       "    <tr>\n",
       "      <th>15:00:00</th>\n",
       "      <td>110</td>\n",
       "    </tr>\n",
       "    <tr>\n",
       "      <th>15:30:00</th>\n",
       "      <td>141</td>\n",
       "    </tr>\n",
       "    <tr>\n",
       "      <th>16:00:00</th>\n",
       "      <td>28</td>\n",
       "    </tr>\n",
       "    <tr>\n",
       "      <th>16:30:00</th>\n",
       "      <td>15</td>\n",
       "    </tr>\n",
       "    <tr>\n",
       "      <th>17:00:00</th>\n",
       "      <td>41</td>\n",
       "    </tr>\n",
       "    <tr>\n",
       "      <th>17:30:00</th>\n",
       "      <td>60</td>\n",
       "    </tr>\n",
       "    <tr>\n",
       "      <th>17:45:00</th>\n",
       "      <td>1</td>\n",
       "    </tr>\n",
       "    <tr>\n",
       "      <th>18:00:00</th>\n",
       "      <td>149</td>\n",
       "    </tr>\n",
       "    <tr>\n",
       "      <th>18:15:00</th>\n",
       "      <td>1</td>\n",
       "    </tr>\n",
       "    <tr>\n",
       "      <th>18:30:00</th>\n",
       "      <td>26</td>\n",
       "    </tr>\n",
       "    <tr>\n",
       "      <th>18:45:00</th>\n",
       "      <td>9</td>\n",
       "    </tr>\n",
       "    <tr>\n",
       "      <th>19:00:00</th>\n",
       "      <td>104</td>\n",
       "    </tr>\n",
       "    <tr>\n",
       "      <th>19:15:00</th>\n",
       "      <td>17</td>\n",
       "    </tr>\n",
       "    <tr>\n",
       "      <th>19:30:00</th>\n",
       "      <td>14</td>\n",
       "    </tr>\n",
       "    <tr>\n",
       "      <th>19:45:00</th>\n",
       "      <td>5</td>\n",
       "    </tr>\n",
       "    <tr>\n",
       "      <th>20:00:00</th>\n",
       "      <td>73</td>\n",
       "    </tr>\n",
       "    <tr>\n",
       "      <th>20:15:00</th>\n",
       "      <td>84</td>\n",
       "    </tr>\n",
       "    <tr>\n",
       "      <th>20:30:00</th>\n",
       "      <td>176</td>\n",
       "    </tr>\n",
       "    <tr>\n",
       "      <th>20:45:00</th>\n",
       "      <td>7</td>\n",
       "    </tr>\n",
       "    <tr>\n",
       "      <th>21:00:00</th>\n",
       "      <td>51</td>\n",
       "    </tr>\n",
       "    <tr>\n",
       "      <th>21:15:00</th>\n",
       "      <td>71</td>\n",
       "    </tr>\n",
       "    <tr>\n",
       "      <th>21:30:00</th>\n",
       "      <td>17</td>\n",
       "    </tr>\n",
       "    <tr>\n",
       "      <th>21:45:00</th>\n",
       "      <td>6</td>\n",
       "    </tr>\n",
       "  </tbody>\n",
       "</table>\n",
       "</div>"
      ],
      "text/plain": [
       "          result\n",
       "Horário         \n",
       "12:45:00       1\n",
       "13:00:00       1\n",
       "14:00:00       3\n",
       "14:30:00      13\n",
       "15:00:00     110\n",
       "15:30:00     141\n",
       "16:00:00      28\n",
       "16:30:00      15\n",
       "17:00:00      41\n",
       "17:30:00      60\n",
       "17:45:00       1\n",
       "18:00:00     149\n",
       "18:15:00       1\n",
       "18:30:00      26\n",
       "18:45:00       9\n",
       "19:00:00     104\n",
       "19:15:00      17\n",
       "19:30:00      14\n",
       "19:45:00       5\n",
       "20:00:00      73\n",
       "20:15:00      84\n",
       "20:30:00     176\n",
       "20:45:00       7\n",
       "21:00:00      51\n",
       "21:15:00      71\n",
       "21:30:00      17\n",
       "21:45:00       6"
      ]
     },
     "execution_count": 13,
     "metadata": {},
     "output_type": "execute_result"
    }
   ],
   "source": [
    "treino[['Horário','result']].groupby('Horário').count()"
   ]
  },
  {
   "cell_type": "code",
   "execution_count": 14,
   "id": "940a90f9",
   "metadata": {},
   "outputs": [
    {
     "name": "stdout",
     "output_type": "stream",
     "text": [
      "2018-08-10\n",
      "2018-08-11\n",
      "2018-08-12\n",
      "2018-08-13\n",
      "2018-08-17\n",
      "2018-08-18\n",
      "2018-08-19\n",
      "2018-08-20\n",
      "2018-08-24\n",
      "2018-08-25\n",
      "2018-08-26\n",
      "2018-08-27\n",
      "2018-08-31\n",
      "2018-09-01\n",
      "2018-09-02\n",
      "2018-09-21\n",
      "2018-09-22\n",
      "2018-09-23\n",
      "2018-09-24\n",
      "2018-09-27\n",
      "2018-09-28\n",
      "2018-09-29\n",
      "2018-09-30\n",
      "2018-10-01\n",
      "2018-10-05\n",
      "2018-10-06\n",
      "2018-10-07\n",
      "2018-10-26\n",
      "2018-10-27\n",
      "2018-10-28\n",
      "2018-11-02\n",
      "2018-11-03\n",
      "2018-11-04\n",
      "2018-11-05\n",
      "2018-11-09\n",
      "2018-11-10\n",
      "2018-11-11\n",
      "2018-11-30\n",
      "2018-12-01\n",
      "2018-12-02\n",
      "2018-12-03\n",
      "2018-12-07\n",
      "2018-12-08\n",
      "2018-12-09\n",
      "2018-12-10\n",
      "2018-12-14\n",
      "2018-12-15\n",
      "2018-12-16\n",
      "2018-12-22\n",
      "2018-12-23\n",
      "2019-01-02\n",
      "2019-01-03\n",
      "2019-01-05\n",
      "2019-01-06\n",
      "2019-01-07\n",
      "2019-01-10\n",
      "2019-01-11\n",
      "2019-01-12\n",
      "2019-01-13\n",
      "2019-01-18\n",
      "2019-01-19\n",
      "2019-01-20\n",
      "2019-01-28\n",
      "2019-01-29\n",
      "2019-01-30\n",
      "2019-02-01\n",
      "2019-02-02\n",
      "2019-02-03\n",
      "2019-02-04\n",
      "2019-02-08\n",
      "2019-02-09\n",
      "2019-02-10\n",
      "2019-02-11\n",
      "2019-02-15\n",
      "2019-02-16\n",
      "2019-02-17\n",
      "2019-02-18\n",
      "2019-02-22\n",
      "2019-02-23\n",
      "2019-02-24\n",
      "2019-02-25\n",
      "2019-03-01\n",
      "2019-03-02\n",
      "2019-03-03\n",
      "2019-03-04\n",
      "2019-03-08\n",
      "2019-03-09\n",
      "2019-03-10\n",
      "2019-03-11\n",
      "2019-03-15\n",
      "2019-03-16\n",
      "2019-03-17\n",
      "2019-03-29\n",
      "2019-03-30\n",
      "2019-03-31\n",
      "2019-04-01\n",
      "2019-04-05\n",
      "2019-04-06\n",
      "2019-04-07\n",
      "2019-04-08\n",
      "2019-04-12\n",
      "2019-04-13\n",
      "2019-04-14\n",
      "2019-04-19\n",
      "2019-04-20\n",
      "2019-04-22\n",
      "2019-04-26\n",
      "2019-04-27\n",
      "2019-04-28\n",
      "2019-05-03\n",
      "2019-05-04\n",
      "2019-05-05\n",
      "2019-05-06\n",
      "2019-05-10\n",
      "2019-05-11\n",
      "2019-05-12\n",
      "2019-05-16\n",
      "2019-05-17\n",
      "2019-05-18\n",
      "2019-05-19\n",
      "2019-08-09\n",
      "2019-08-10\n",
      "2019-08-11\n",
      "2019-08-12\n",
      "2019-08-16\n",
      "2019-08-17\n",
      "2019-08-18\n",
      "2019-08-19\n",
      "2019-08-23\n",
      "2019-08-24\n",
      "2019-08-25\n",
      "2019-08-30\n",
      "2019-08-31\n",
      "2019-09-01\n",
      "2019-09-08\n",
      "2019-09-13\n",
      "2019-09-14\n",
      "2019-09-15\n",
      "2019-09-20\n",
      "2019-09-21\n",
      "2019-09-22\n",
      "2019-09-23\n",
      "2019-09-27\n",
      "2019-09-28\n",
      "2019-09-29\n",
      "2019-09-30\n",
      "2019-10-05\n",
      "2019-10-25\n",
      "2019-10-26\n",
      "2019-10-27\n",
      "2019-10-28\n",
      "2019-10-30\n",
      "2019-10-31\n",
      "2019-11-02\n",
      "2019-11-03\n",
      "2019-11-04\n",
      "2019-11-08\n",
      "2019-11-09\n",
      "2019-11-10\n",
      "2019-11-29\n",
      "2019-11-30\n",
      "2019-12-01\n",
      "2019-12-02\n",
      "2019-12-06\n",
      "2019-12-07\n",
      "2019-12-08\n",
      "2019-12-09\n",
      "2019-12-13\n",
      "2019-12-14\n",
      "2019-12-15\n",
      "2019-12-16\n",
      "2020-01-04\n",
      "2020-01-05\n",
      "2020-01-10\n",
      "2020-01-11\n",
      "2020-01-12\n",
      "2020-01-17\n",
      "2020-01-18\n",
      "2020-01-19\n",
      "2020-01-26\n",
      "2020-01-27\n",
      "2020-01-28\n",
      "2020-01-29\n",
      "2020-01-31\n",
      "2020-02-01\n",
      "2020-02-02\n",
      "2020-02-07\n",
      "2020-02-08\n",
      "2020-02-09\n",
      "2020-02-14\n",
      "2020-02-15\n",
      "2020-02-16\n",
      "2020-02-21\n",
      "2020-02-22\n",
      "2020-02-23\n",
      "2020-02-24\n",
      "2020-02-28\n",
      "2020-02-29\n",
      "2020-03-01\n",
      "2020-03-02\n",
      "2020-03-03\n",
      "2020-03-06\n",
      "2020-03-07\n",
      "2020-03-08\n",
      "2020-06-03\n",
      "2020-06-04\n",
      "2020-06-05\n",
      "2020-06-06\n",
      "2020-06-07\n",
      "2020-06-09\n",
      "2020-06-10\n",
      "2020-06-11\n",
      "2020-06-12\n",
      "2020-06-13\n",
      "2020-06-15\n",
      "2020-06-16\n",
      "2020-06-17\n",
      "2020-06-18\n",
      "2020-06-19\n",
      "2020-06-21\n",
      "2020-06-22\n",
      "2020-06-23\n",
      "2020-06-24\n",
      "2020-06-25\n",
      "2020-06-26\n",
      "2020-06-28\n",
      "2020-06-29\n",
      "2020-06-30\n",
      "2020-07-01\n",
      "2020-07-03\n",
      "2020-07-04\n",
      "2020-07-05\n",
      "2020-07-06\n",
      "2020-07-08\n",
      "2020-07-09\n",
      "2020-07-10\n",
      "2020-07-11\n",
      "2020-07-13\n",
      "2020-07-14\n",
      "2020-07-15\n",
      "2020-07-18\n",
      "2020-07-19\n",
      "2020-07-20\n",
      "2020-07-21\n",
      "2020-07-24\n",
      "2020-07-25\n",
      "2020-07-26\n",
      "2020-09-18\n",
      "2020-09-19\n",
      "2020-09-20\n",
      "2020-09-21\n",
      "2020-09-25\n",
      "2020-09-26\n",
      "2020-09-27\n",
      "2020-09-28\n",
      "2020-10-02\n",
      "2020-10-03\n",
      "2020-10-04\n",
      "2020-10-17\n",
      "2020-10-18\n",
      "2020-10-19\n",
      "2020-10-23\n",
      "2020-10-24\n",
      "2020-10-25\n",
      "2020-10-26\n",
      "2020-10-28\n",
      "2020-10-30\n",
      "2020-10-31\n",
      "2020-11-01\n",
      "2020-11-02\n",
      "2020-11-06\n",
      "2020-11-07\n",
      "2020-11-08\n",
      "2020-11-27\n",
      "2020-11-28\n",
      "2020-11-29\n",
      "2020-11-30\n",
      "2020-12-01\n",
      "2020-12-05\n",
      "2020-12-06\n",
      "2020-12-07\n",
      "2020-12-18\n",
      "2020-12-19\n",
      "2020-12-20\n",
      "2020-12-21\n",
      "2020-12-22\n",
      "2020-12-27\n",
      "2020-12-28\n",
      "2020-12-29\n",
      "2021-01-02\n",
      "2021-01-03\n",
      "2021-01-04\n",
      "2021-01-07\n",
      "2021-01-08\n",
      "2021-01-09\n",
      "2021-01-10\n",
      "2021-01-15\n",
      "2021-01-16\n",
      "2021-01-17\n",
      "2021-01-18\n",
      "2021-01-21\n",
      "2021-01-24\n",
      "2021-01-25\n",
      "2021-01-26\n",
      "2021-01-30\n",
      "2021-01-31\n",
      "2021-02-01\n",
      "2021-02-02\n",
      "2021-02-04\n",
      "2021-02-05\n",
      "2021-02-07\n",
      "2021-02-08\n",
      "2021-02-09\n",
      "2021-02-12\n",
      "2021-02-13\n",
      "2021-02-14\n",
      "2021-02-15\n",
      "2021-02-16\n",
      "2021-02-17\n",
      "2021-02-19\n",
      "2021-02-20\n",
      "2021-02-21\n",
      "2021-02-22\n",
      "2021-02-26\n",
      "2021-02-27\n",
      "2021-02-28\n",
      "2021-03-01\n",
      "2021-03-05\n",
      "2021-03-06\n",
      "2021-03-07\n",
      "2021-03-08\n",
      "2021-03-09\n",
      "2021-03-12\n",
      "2021-03-13\n",
      "2021-03-14\n",
      "2021-03-15\n",
      "2021-03-19\n",
      "2021-03-20\n",
      "2021-03-21\n",
      "2021-04-02\n",
      "2021-04-03\n",
      "2021-04-04\n",
      "2021-04-05\n",
      "2021-04-09\n",
      "2021-04-10\n",
      "2021-04-11\n",
      "2021-04-16\n",
      "2021-04-17\n",
      "2021-04-18\n",
      "2021-04-20\n",
      "2021-04-21\n",
      "2021-04-22\n",
      "2021-04-25\n",
      "2021-04-26\n",
      "2021-04-27\n",
      "2021-04-29\n",
      "2021-04-30\n",
      "2021-05-01\n",
      "2021-05-05\n",
      "2021-05-06\n",
      "2021-05-07\n",
      "2021-05-09\n",
      "2021-05-10\n",
      "2021-05-11\n",
      "2021-05-12\n",
      "2021-05-14\n",
      "2021-05-15\n",
      "2021-05-16\n",
      "2021-05-18\n",
      "2021-05-19\n",
      "2021-08-06\n",
      "2021-08-07\n",
      "2021-08-08\n",
      "2021-08-09\n",
      "2021-08-13\n",
      "2021-08-14\n",
      "2021-08-15\n",
      "2021-08-16\n",
      "2021-08-20\n",
      "2021-08-21\n",
      "2021-08-22\n",
      "2021-08-23\n",
      "2021-08-27\n",
      "2021-08-28\n",
      "2021-08-29\n",
      "2021-09-11\n",
      "2021-09-12\n",
      "2021-09-13\n",
      "2021-09-17\n",
      "2021-09-18\n",
      "2021-09-19\n",
      "2021-09-20\n",
      "2021-09-24\n",
      "2021-09-25\n",
      "2021-09-26\n",
      "2021-09-27\n",
      "2021-10-01\n",
      "2021-10-02\n",
      "2021-10-03\n",
      "2021-10-22\n",
      "2021-10-23\n",
      "2021-10-24\n",
      "2021-10-25\n",
      "2021-10-29\n",
      "2021-10-30\n",
      "2021-10-31\n",
      "2021-11-01\n",
      "2021-11-05\n",
      "2021-11-06\n",
      "2021-11-07\n",
      "2021-11-26\n",
      "2021-11-27\n",
      "2021-11-28\n",
      "2021-11-29\n",
      "2021-11-30\n",
      "2021-12-03\n",
      "2021-12-04\n",
      "2021-12-05\n",
      "2021-12-10\n",
      "2021-12-11\n",
      "2021-12-12\n",
      "2021-12-13\n",
      "2021-12-17\n",
      "2021-12-18\n",
      "2021-12-19\n",
      "2021-12-28\n",
      "2021-12-29\n",
      "2021-12-30\n",
      "2022-01-02\n",
      "2022-01-03\n",
      "2022-01-07\n",
      "2022-01-08\n",
      "2022-01-09\n",
      "2022-01-10\n",
      "2022-01-13\n",
      "2022-01-15\n",
      "2022-01-16\n",
      "2022-01-17\n",
      "2022-01-21\n",
      "2022-01-22\n",
      "2022-01-23\n",
      "2022-01-27\n",
      "2022-01-30\n",
      "2022-01-31\n",
      "2022-02-01\n",
      "2022-02-02\n",
      "2022-02-05\n",
      "2022-02-06\n",
      "2022-02-07\n",
      "2022-02-11\n",
      "2022-02-12\n",
      "2022-02-13\n",
      "2022-02-14\n",
      "2022-02-18\n",
      "2022-02-19\n",
      "2022-02-20\n",
      "2022-02-21\n",
      "2022-02-25\n",
      "2022-02-26\n",
      "2022-02-27\n",
      "2022-02-28\n",
      "2022-03-04\n",
      "2022-03-05\n",
      "2022-03-06\n",
      "2022-03-07\n",
      "2022-03-11\n",
      "2022-03-12\n",
      "2022-03-13\n",
      "2022-03-14\n",
      "2022-03-18\n",
      "2022-03-19\n",
      "2022-03-20\n",
      "2022-04-01\n",
      "2022-04-02\n",
      "2022-04-03\n",
      "2022-04-04\n",
      "2022-04-08\n",
      "2022-04-09\n",
      "2022-04-10\n",
      "2022-04-15\n",
      "2022-04-16\n",
      "2022-04-17\n",
      "2022-04-18\n",
      "2022-04-22\n",
      "2022-04-23\n",
      "2022-04-24\n",
      "2022-04-25\n",
      "2022-04-29\n",
      "2022-04-30\n",
      "2022-05-01\n",
      "2022-05-02\n",
      "2022-05-06\n",
      "2022-05-07\n",
      "2022-05-08\n",
      "2022-05-09\n",
      "2022-05-13\n",
      "2022-05-14\n",
      "2022-05-15\n"
     ]
    }
   ],
   "source": [
    "import requests\n",
    "\n",
    "datas = treino['Data'].unique()\n",
    "\n",
    "for data in datas:\n",
    "    url = f'https://api.sunrise-sunset.org/json?lat=41.4500&lng=-8.3000&date={data}'\n",
    "    response = requests.get(url)\n",
    "    resposta = response.json()\n",
    "    treino.loc[treino['Data'] == data, 'hora_noite'] = resposta['results']['astronomical_twilight_end']\n",
    "    print(data)\n"
   ]
  },
  {
   "cell_type": "code",
   "execution_count": 15,
   "id": "4d4baabf",
   "metadata": {},
   "outputs": [
    {
     "data": {
      "image/png": "[encoded data removed]",
      "text/plain": [
       "<Figure size 1000x600 with 1 Axes>"
      ]
     },
     "metadata": {},
     "output_type": "display_data"
    }
   ],
   "source": [
    "import matplotlib.pyplot as plt\n",
    "\n",
    "# Calcular a contagem de ocorrências de cada valor por árbitro\n",
    "# Contar o número de jogos arbitrados por árbitro\n",
    "counts_arbitro = treino['Árbitro'].value_counts()\n",
    "\n",
    "# Filtrar os árbitros com menos de 10 jogos arbitrados\n",
    "arbitros_filtrados = counts_arbitro[counts_arbitro >= 10].index\n",
    "\n",
    "# Filtrar o DataFrame original com base nos árbitros filtrados\n",
    "df_filtrado = treino[treino['Árbitro'].isin(arbitros_filtrados)]\n",
    "\n",
    "# Calcular a contagem de ocorrências de cada valor por árbitro no DataFrame filtrado\n",
    "counts = df_filtrado.groupby('Árbitro')['result'].value_counts(normalize=True).mul(100).rename('Percentage').reset_index()\n",
    "\n",
    "counts = counts[counts['result'] == 'H']\n",
    "\n",
    "# Criar o gráfico de barras\n",
    "plt.figure(figsize=(10, 6))\n",
    "sns.barplot(x='Árbitro', y='Percentage', hue='result', data=counts)\n",
    "plt.title('Percentagem de vitórias da equipa da casa por árbitro\\n(Apenas considerados árbitros com mais de 10 jogos arbitrados)')\n",
    "plt.xlabel('Árbitro')\n",
    "plt.ylabel('Percentagem de ocorrências')\n",
    "plt.xticks(rotation=90)\n",
    "plt.legend(title='Resultado')\n",
    "\n",
    "plt.show()"
   ]
  },
  {
   "cell_type": "code",
   "execution_count": 25,
   "id": "6766050f",
   "metadata": {
    "scrolled": true
   },
   "outputs": [
    {
     "name": "stdout",
     "output_type": "stream",
     "text": [
      "t-test statistic: 1.93\n",
      "p-value: 0.0269\n"
     ]
    }
   ],
   "source": [
    "# Testar se há evidência estatística de que a presença do árbitro João Bento influencia a favor da equipa da casa\n",
    "\n",
    "bento = treino[treino['Árbitro'] == 'João Bento']\n",
    "nao_bento = treino[treino['Árbitro'] != 'João Bento']\n",
    "\n",
    "# -> H0: média da dif de golos com joão bento - média da dif de golos sem joão bento = 0 (A equipa da casa não tem vantagem)\n",
    "# -> H1: média da dif de golos com joão bento - média da dif de golos sem joão bento > 0 (A equipa da casa tem vantagem)\n",
    "\n",
    "test_statistic, p_value = ttest_ind(bento['dif'], nao_bento['dif'], alternative='greater')\n",
    "\n",
    "# Print the test statistic and p-value\n",
    "print(\"t-test statistic: {:.2f}\".format(test_statistic))\n",
    "print(\"p-value: {:.4f}\".format(p_value))\n",
    "\n",
    "# t-test statistic: 1.93\n",
    "# p-value: 0.0269\n",
    "\n",
    "# Como p-value < 0.05, rejeitamos H0, o que nos diz que a equipa da casa é beneficiada com a presença do árbitro João Bento\n",
    "\n",
    "# Nota: Este árbitro foi despromovido na época 2020/21"
   ]
  },
  {
   "cell_type": "code",
   "execution_count": 24,
   "id": "8a51fe92",
   "metadata": {},
   "outputs": [
    {
     "name": "stdout",
     "output_type": "stream",
     "text": [
      "t-test statistic: 2.60\n",
      "p-value: 0.0047\n"
     ]
    }
   ],
   "source": [
    "# Testar se há evidência estatística de que a presença do árbitro António Nobre influencia a favor da equipa da casa\n",
    "\n",
    "bento = treino[treino['Árbitro'] == 'António Nobre']\n",
    "nao_bento = treino[treino['Árbitro'] != 'António Nobre']\n",
    "\n",
    "# -> H0: média da dif de golos com joão bento - média da dif de golos sem joão bento = 0 (A equipa da casa não tem vantagem)\n",
    "# -> H1: média da dif de golos com joão bento - média da dif de golos sem joão bento > 0 (A equipa da casa tem vantagem)\n",
    "\n",
    "test_statistic, p_value = ttest_ind(bento['dif'], nao_bento['dif'], alternative='greater')\n",
    "\n",
    "# Print the test statistic and p-value\n",
    "print(\"t-test statistic: {:.2f}\".format(test_statistic))\n",
    "print(\"p-value: {:.4f}\".format(p_value))\n",
    "\n",
    "# t-test statistic: 1.93\n",
    "# p-value: 0.0269\n",
    "\n",
    "# Como p-value < 0.05, rejeitamos H0, o que nos diz que a equipa da casa é beneficiada com a presença do árbitro João Bento\n",
    "\n",
    "# Nota: Este árbitro foi despromovido na época 2020/21"
   ]
  },
  {
   "cell_type": "code",
   "execution_count": 17,
   "id": "bddec912",
   "metadata": {},
   "outputs": [
    {
     "data": {
      "text/plain": [
       "0.86"
      ]
     },
     "execution_count": 17,
     "metadata": {},
     "output_type": "execute_result"
    }
   ],
   "source": [
    "treino[treino['Árbitro'] == 'António Nobre']['dif'].mean()"
   ]
  },
  {
   "cell_type": "code",
   "execution_count": 18,
   "id": "d1bdef55",
   "metadata": {},
   "outputs": [
    {
     "data": {
      "text/plain": [
       "0.19591141396933562"
      ]
     },
     "execution_count": 18,
     "metadata": {},
     "output_type": "execute_result"
    }
   ],
   "source": [
    "treino[treino['Árbitro'] != 'António Nobre']['dif'].mean()"
   ]
  },
  {
   "cell_type": "code",
   "execution_count": 19,
   "id": "81936e2c",
   "metadata": {},
   "outputs": [
    {
     "data": {
      "text/plain": [
       "<AxesSubplot: xlabel='Assistance'>"
      ]
     },
     "execution_count": 19,
     "metadata": {},
     "output_type": "execute_result"
    },
    {
     "data": {
      "image/png": "[encoded data removed]",
      "text/plain": [
       "<Figure size 640x480 with 1 Axes>"
      ]
     },
     "metadata": {},
     "output_type": "display_data"
    }
   ],
   "source": [
    "import seaborn as sns\n",
    "\n",
    "sns.boxplot(x=treino['Assistance'])"
   ]
  },
  {
   "cell_type": "code",
   "execution_count": 20,
   "id": "9ff9aa52",
   "metadata": {},
   "outputs": [
    {
     "data": {
      "text/plain": [
       "count     1224.000000\n",
       "mean      6826.734477\n",
       "std      12284.294068\n",
       "min          0.000000\n",
       "25%          0.000000\n",
       "50%       2101.500000\n",
       "75%       5704.250000\n",
       "max      64064.000000\n",
       "Name: Assistance, dtype: float64"
      ]
     },
     "execution_count": 20,
     "metadata": {},
     "output_type": "execute_result"
    }
   ],
   "source": [
    "treino['Assistance'].describe()"
   ]
  },
  {
   "cell_type": "code",
   "execution_count": null,
   "id": "78f8ead2",
   "metadata": {},
   "outputs": [],
   "source": []
  },
  {
   "cell_type": "code",
   "execution_count": 21,
   "id": "c6ffa842",
   "metadata": {},
   "outputs": [],
   "source": [
    "treino['dif'] = treino['goals_home'] - treino['goals_away']\n",
    "treino['xg_dif'] = treino['xG_home'] - treino['xG_away']\n",
    "\n",
    "treino_t1 = treino[['Data','Assistance','dif','xg_dif']].copy()\n",
    "\n",
    "covid = treino_t1[treino_t1['Assistance'] == 0]\n",
    "nao_covid = treino_t1[treino_t1['Assistance'] != 0]"
   ]
  },
  {
   "cell_type": "code",
   "execution_count": 22,
   "id": "be3679de",
   "metadata": {},
   "outputs": [
    {
     "name": "stdout",
     "output_type": "stream",
     "text": [
      "t-test statistic: -0.72\n",
      "p-value: 0.7645\n"
     ]
    }
   ],
   "source": [
    "# -> H0: média da dif de golos com espectadores - média da dif de golos sem espectadores = 0\n",
    "# -> H1: média da dif de golos com espectadores - média da dif de golos sem espectadores > 0\n",
    "from scipy.stats import ttest_ind\n",
    "\n",
    "test_statistic, p_value = ttest_ind(covid['dif'], nao_covid['dif'], alternative='greater')\n",
    "\n",
    "# Print the test statistic and p-value\n",
    "print(\"t-test statistic: {:.2f}\".format(test_statistic))\n",
    "print(\"p-value: {:.4f}\".format(p_value))\n",
    "\n",
    "# t-test statistic: -0.72\n",
    "# p-value: 0.7645\n",
    "\n",
    "# Não rejeitamos a hipotese nula, a presença de espectadores não afeta a diferença de golos"
   ]
  },
  {
   "cell_type": "code",
   "execution_count": 23,
   "id": "2a315d78",
   "metadata": {},
   "outputs": [
    {
     "name": "stdout",
     "output_type": "stream",
     "text": [
      "t-test statistic: -0.67\n",
      "p-value: 0.7472\n"
     ]
    }
   ],
   "source": [
    "# -> H0: média da dif de golos com espectadores - média da dif de golos sem espectadores = 0\n",
    "# -> H1: média da dif de golos com espectadores - média da dif de golos sem espectadores > 0\n",
    "from scipy.stats import ttest_ind\n",
    "\n",
    "\n",
    "test_statistic, p_value = ttest_ind(covid['xg_dif'], nao_covid['xg_dif'], alternative='greater')\n",
    "\n",
    "# Print the test statistic and p-value\n",
    "print(\"t-test statistic: {:.2f}\".format(test_statistic))\n",
    "print(\"p-value: {:.4f}\".format(p_value))\n",
    "\n",
    "# t-test statistic: -0.67\n",
    "# p-value: 0.7472\n",
    "\n",
    "# Não rejeitamos a hipotese nula"
   ]
  },
  {
   "cell_type": "code",
   "execution_count": 28,
   "id": "04d3fc90",
   "metadata": {},
   "outputs": [],
   "source": [
    "treino.loc[treino['Dia'] == 'sáb', 'FDSem'] = 1\n",
    "treino.loc[treino['Dia'] == 'dom', 'FDSem'] = 1\n",
    "treino.loc[treino['FDSem'].isna(), 'FDSem'] = 0"
   ]
  },
  {
   "cell_type": "code",
   "execution_count": 38,
   "id": "3b289b47",
   "metadata": {},
   "outputs": [
    {
     "data": {
      "text/plain": [
       "False    923\n",
       "True     301\n",
       "Name: Noite, dtype: int64"
      ]
     },
     "execution_count": 38,
     "metadata": {},
     "output_type": "execute_result"
    }
   ],
   "source": [
    "treino['Noite'].value_counts()"
   ]
  },
  {
   "cell_type": "code",
   "execution_count": 39,
   "id": "472d5f82",
   "metadata": {},
   "outputs": [],
   "source": [
    "fim = treino[treino['FDSem'] == 1]\n",
    "nao_fim = treino[treino['FDSem'] != 1]\n",
    "\n",
    "noite = treino[treino['Noite'] == True]\n",
    "nao_noite = treino[treino['Noite'] == False]"
   ]
  },
  {
   "cell_type": "code",
   "execution_count": 40,
   "id": "5f62cea9",
   "metadata": {},
   "outputs": [
    {
     "name": "stdout",
     "output_type": "stream",
     "text": [
      "t-test statistic: 1.46\n",
      "p-value: 0.0722\n"
     ]
    }
   ],
   "source": [
    "# -> H0: média da dif de golos com jogo ao fim de semana\n",
    "# -> H1: média da dif de golos com jogo durante a semana\n",
    "from scipy.stats import ttest_ind\n",
    "\n",
    "\n",
    "test_statistic, p_value = ttest_ind(fim['xg_dif'], nao_fim['xg_dif'], alternative='greater')\n",
    "\n",
    "# Print the test statistic and p-value\n",
    "print(\"t-test statistic: {:.2f}\".format(test_statistic))\n",
    "print(\"p-value: {:.4f}\".format(p_value))\n",
    "\n",
    "# t-test statistic: 1.46\n",
    "# p-value: 0.0722"
   ]
  },
  {
   "cell_type": "code",
   "execution_count": 41,
   "id": "a239fd49",
   "metadata": {},
   "outputs": [
    {
     "name": "stdout",
     "output_type": "stream",
     "text": [
      "t-test statistic: -0.03\n",
      "p-value: 0.5101\n"
     ]
    }
   ],
   "source": [
    "# -> H0: média da dif de golos com jogo à noite\n",
    "# -> H1: média da dif de golos com jogo durante o dia\n",
    "from scipy.stats import ttest_ind\n",
    "\n",
    "\n",
    "test_statistic, p_value = ttest_ind(noite['xg_dif'], nao_noite['xg_dif'], alternative='greater')\n",
    "\n",
    "# Print the test statistic and p-value\n",
    "print(\"t-test statistic: {:.2f}\".format(test_statistic))\n",
    "print(\"p-value: {:.4f}\".format(p_value))\n",
    "\n",
    "# t-test statistic: -0.03\n",
    "# p-value: 0.5101"
   ]
  },
  {
   "cell_type": "code",
   "execution_count": 42,
   "id": "ff2efd3f",
   "metadata": {},
   "outputs": [
    {
     "data": {
      "text/plain": [
       "4-2-3-1      264\n",
       "4-3-3        233\n",
       "4-4-2        225\n",
       "3-4-3        123\n",
       "4-1-4-1       71\n",
       "5-4-1         27\n",
       "3-4-1-2       14\n",
       "4-4-1-1       13\n",
       "5-3-2         13\n",
       "3-5-2         11\n",
       "4-5-1          6\n",
       "4-1-2-1-2      6\n",
       "4-1-3-2        5\n",
       "4-2-2-2        3\n",
       "4-3-1-2        3\n",
       "3-2-4-1        1\n",
       "4-3-2-1        1\n",
       "3-5-1-1        1\n",
       "Name: formacao_home, dtype: int64"
      ]
     },
     "execution_count": 42,
     "metadata": {},
     "output_type": "execute_result"
    }
   ],
   "source": [
    "treino['formacao_home'].value_counts()"
   ]
  },
  {
   "cell_type": "code",
   "execution_count": 54,
   "metadata": {},
   "outputs": [
    {
     "data": {
      "text/plain": [
       "204"
      ]
     },
     "execution_count": 54,
     "metadata": {},
     "output_type": "execute_result"
    }
   ],
   "source": [
    "treino['formacao_home'].isna().sum()"
   ]
  },
  {
   "cell_type": "code",
   "execution_count": 61,
   "id": "6242e6bb",
   "metadata": {},
   "outputs": [
    {
     "data": {
      "text/plain": [
       "Index(['Jornada', 'Dia', 'Data', 'Horário', 'home', 'xG_home', 'xG_away',\n",
       "       'away', 'Assistance', 'Local', 'Árbitro', 'Relatório da Partida',\n",
       "       'goals_home', 'goals_away', 'formacao_home', 'formacao_away',\n",
       "       'Faltas_home', 'Faltas_away', 'Escanteios_home', 'Escanteios_away',\n",
       "       'Cruzamentos_home', 'Cruzamentos_away', 'Contatos_home',\n",
       "       'Contatos_away', 'Bote defensivo_home', 'Bote defensivo_away',\n",
       "       'Cortes_home', 'Cortes_away', 'Defesas_home', 'Defesas_away',\n",
       "       'Impedimentos_home', 'Impedimentos_away', 'Tiro de meta_home',\n",
       "       'Tiro de meta_away', 'Bolas longas_home', 'Bolas longas_away',\n",
       "       'yellow_card_home', 'red_card_home', 'yellow_red_card_home',\n",
       "       'yellow_card_away', 'red_card_away', 'yellow_red_card_away',\n",
       "       'jogador1_home', 'jogador2_home', 'jogador3_home', 'jogador4_home',\n",
       "       'jogador5_home', 'jogador6_home', 'jogador7_home', 'jogador8_home',\n",
       "       'jogador9_home', 'jogador10_home', 'jogador11_home', 'jogador12_home',\n",
       "       'jogador13_home', 'jogador14_home', 'jogador15_home', 'jogador16_home',\n",
       "       'jogador17_home', 'jogador1_away', 'jogador2_away', 'jogador3_away',\n",
       "       'jogador4_away', 'jogador5_away', 'jogador6_away', 'jogador7_away',\n",
       "       'jogador8_away', 'jogador9_away', 'jogador10_away', 'jogador11_away',\n",
       "       'jogador12_away', 'jogador13_away', 'jogador14_away', 'jogador15_away',\n",
       "       'jogador16_away', 'jogador17_away', 'HS', 'AS', 'HST', 'AST', 'B365H',\n",
       "       'B365D', 'B365A', 'jogador18_home', 'jogador18_away', 'jogador19_away',\n",
       "       'jogador19_home', 'jogador20_away', 'jogador20_home', 'fav', 'dif',\n",
       "       'xg_dif', 'result', 'hora_noite', 'Horario', 'Noite', 'FDSem'],\n",
       "      dtype='object')"
      ]
     },
     "execution_count": 61,
     "metadata": {},
     "output_type": "execute_result"
    }
   ],
   "source": [
    "treino.columns"
   ]
  }
 ],
 "metadata": {
  "interpreter": {
   "hash": "916dbcbb3f70747c44a77c7bcd40155683ae19c65e1c03b4aa3499c5328201f1"
  },
  "kernelspec": {
   "display_name": "Python 3.9.7 64-bit",
   "language": "python",
   "name": "python3"
  },
  "language_info": {
   "codemirror_mode": {
    "name": "ipython",
    "version": 3
   },
   "file_extension": ".py",
   "mimetype": "text/x-python",
   "name": "python",
   "nbconvert_exporter": "python",
   "pygments_lexer": "ipython3",
   "version": "3.9.7"
  }
 },
 "nbformat": 4,
 "nbformat_minor": 5
}
