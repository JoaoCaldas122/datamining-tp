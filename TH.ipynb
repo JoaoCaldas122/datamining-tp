{
 "cells": [
  {
   "cell_type": "code",
   "execution_count": null,
   "id": "3aeede81",
   "metadata": {},
   "outputs": [],
   "source": [
    "import pandas as pd\n",
    "import numpy as np\n",
    "\n",
    "#treino = pd.read_csv('merged_treinofinal.csv')\n",
    "treino = pd.read_csv('TH.csv')"
   ]
  },
  {
   "cell_type": "code",
   "execution_count": null,
   "id": "05b0bfc0",
   "metadata": {},
   "outputs": [],
   "source": [
    "treino['Data'] = pd.to_datetime(treino['Data']).dt.date"
   ]
  },
  {
   "cell_type": "code",
   "execution_count": null,
   "id": "ed86994e",
   "metadata": {},
   "outputs": [],
   "source": [
    "import datetime\n",
    "#Horário de verão ou inverno\n",
    "treino['Horario'] = 1\n",
    "\n",
    "treino.loc[treino['Data'] < datetime.date(2023,3,26), 'Horario'] = 0\n",
    "treino.loc[treino['Data'] < datetime.date(2022,10,30), 'Horario'] = 1\n",
    "treino.loc[treino['Data'] < datetime.date(2022,3,27), 'Horario'] = 0\n",
    "treino.loc[treino['Data'] < datetime.date(2021,10,31), 'Horario'] = 1\n",
    "treino.loc[treino['Data'] < datetime.date(2021,3,28), 'Horario'] = 0\n",
    "treino.loc[treino['Data'] < datetime.date(2020,10,25), 'Horario'] = 1\n",
    "treino.loc[treino['Data'] < datetime.date(2020,3,29), 'Horario'] = 0\n",
    "treino.loc[treino['Data'] < datetime.date(2019,10,27), 'Horario'] = 1\n",
    "treino.loc[treino['Data'] < datetime.date(2019,3,31), 'Horario'] = 0\n",
    "treino.loc[treino['Data'] < datetime.date(2018,10,28), 'Horario'] = 1\n",
    "\n",
    "treino['hora_noite'] = pd.to_datetime(treino['hora_noite'])\n",
    "treino.loc[treino['Horario'] == 1, 'hora_noite'] = treino.loc[treino['Horario'] == 1, 'hora_noite'] + pd.Timedelta(hours=1)\n",
    "treino['hora_noite'] = treino['hora_noite'].dt.time\n",
    "\n",
    "treino['Horário'] = pd.to_datetime(treino['Horário']).dt.time\n",
    "treino['Noite'] = treino['Horário'] > treino['hora_noite']"
   ]
  },
  {
   "cell_type": "code",
   "execution_count": null,
   "id": "b36df7b2",
   "metadata": {},
   "outputs": [],
   "source": [
    "treino['Noite'].value_counts()"
   ]
  },
  {
   "cell_type": "code",
   "execution_count": null,
   "id": "953900fe",
   "metadata": {},
   "outputs": [],
   "source": [
    "treino['dif'] = treino['goals_home'] - treino['goals_away']\n",
    "treino['xg_dif'] = treino['xG_home'] - treino['xG_away']\n",
    "\n",
    "treino.loc[treino['dif']>0, 'result'] = 'H'\n",
    "treino.loc[treino['dif']==0, 'result'] = 'D'\n",
    "treino.loc[treino['dif']<0, 'result'] = 'A'"
   ]
  },
  {
   "cell_type": "code",
   "execution_count": null,
   "id": "4abdf185",
   "metadata": {},
   "outputs": [],
   "source": [
    "#Define o favorito\n",
    "treino.loc[treino['B365H'] < 2.26, 'fav'] = 'H'\n",
    "treino.loc[treino['B365H'] < 1.40, 'fav'] = 'HH'\n",
    "treino.loc[treino['B365A'] < 2.26, 'fav'] = 'A'\n",
    "treino.loc[treino['B365A'] < 1.40, 'fav'] = 'AA'\n",
    "treino.loc[treino['fav'].isna(), 'fav'] = 'D'"
   ]
  },
  {
   "cell_type": "code",
   "execution_count": null,
   "id": "1f19cccc",
   "metadata": {},
   "outputs": [],
   "source": [
    "import matplotlib.pyplot as plt\n",
    "order = ['H', 'D', 'A']\n",
    "category_order = ['HH', 'H', 'D', 'A', 'AA']\n",
    "\n",
    "# Convert 'x' column to categorical data type with the specified order\n",
    "treino['fav'] = pd.Categorical(treino['fav'], categories=category_order, ordered=True)\n",
    "treino['result'] = pd.Categorical(treino['result'], categories=order, ordered=True)\n",
    "\n",
    "# Calculate the percentage of values in column 'y' for each unique value in column 'x'\n",
    "result = treino.groupby('fav')['result'].value_counts(normalize=True) * 100\n",
    "\n",
    "# Criar o gráfico de barras\n",
    "result.unstack().plot(kind='bar',stacked=True)\n",
    "\n",
    "# Configurar os rótulos dos eixos\n",
    "plt.xlabel('Favorito')\n",
    "plt.ylabel('Percentagem')\n",
    "\n",
    "# Exibir o gráfico\n",
    "plt.show()"
   ]
  },
  {
   "cell_type": "code",
   "execution_count": null,
   "id": "476efcdb",
   "metadata": {},
   "outputs": [],
   "source": [
    "import seaborn as sns\n",
    "#Fazer reverse ao cmap\n",
    "\n",
    "order = ['H', 'D', 'A']\n",
    "\n",
    "sns.heatmap(treino[['fav','B365H','B365D','B365A']].groupby('fav').mean().rename({'B365H': 'H','B365D': 'D', 'B365A': 'A'}, axis=1) - result.unstack()[order].reindex(['HH', 'H', 'D', 'A', 'AA']))"
   ]
  },
  {
   "cell_type": "code",
   "execution_count": null,
   "id": "436fe8d7",
   "metadata": {},
   "outputs": [],
   "source": [
    "treino[['Horário','result']].groupby('Horário').count()"
   ]
  },
  {
   "cell_type": "code",
   "execution_count": null,
   "id": "940a90f9",
   "metadata": {},
   "outputs": [],
   "source": [
    "import requests\n",
    "\n",
    "datas = treino['Data'].unique()\n",
    "\n",
    "for data in datas:\n",
    "    url = f'https://api.sunrise-sunset.org/json?lat=41.4500&lng=-8.3000&date={data}'\n",
    "    response = requests.get(url)\n",
    "    resposta = response.json()\n",
    "    treino.loc[treino['Data'] == data, 'hora_noite'] = resposta['results']['astronomical_twilight_end']\n",
    "    print(data)\n"
   ]
  },
  {
   "cell_type": "code",
   "execution_count": null,
   "id": "8baa8c68",
   "metadata": {},
   "outputs": [],
   "source": [
    "import requests\n",
    "\n",
    "datas = treino['Data'].unique()\n",
    "\n",
    "for data in datas:\n",
    "    url = f'https://api.open-meteo.com/v1/forecast?latitude=41.45&longitude=8.3&daily=temperature_2m_max'\n",
    "    response = requests.get(url)\n",
    "    resposta = response.json()\n",
    "    print(resposta)\n",
    "    #treino.loc[treino['Data'] == data, 'temperatura'] = resposta['temperature_2m']\n",
    "    #print(data)\n",
    "\n",
    "\n",
    "    "
   ]
  },
  {
   "cell_type": "code",
   "execution_count": null,
   "id": "4d4baabf",
   "metadata": {},
   "outputs": [],
   "source": [
    "import matplotlib.pyplot as plt\n",
    "\n",
    "# Calcular a contagem de ocorrências de cada valor por árbitro\n",
    "# Contar o número de jogos arbitrados por árbitro\n",
    "counts_arbitro = treino['Árbitro'].value_counts()\n",
    "\n",
    "# Filtrar os árbitros com menos de 10 jogos arbitrados\n",
    "arbitros_filtrados = counts_arbitro[counts_arbitro >= 10].index\n",
    "\n",
    "# Filtrar o DataFrame original com base nos árbitros filtrados\n",
    "df_filtrado = treino[treino['Árbitro'].isin(arbitros_filtrados)]\n",
    "\n",
    "# Calcular a contagem de ocorrências de cada valor por árbitro no DataFrame filtrado\n",
    "counts = df_filtrado.groupby('Árbitro')['result'].value_counts(normalize=True).mul(100).rename('Percentage').reset_index()\n",
    "\n",
    "counts = counts[counts['result'] == 'H']\n",
    "\n",
    "# Criar o gráfico de barras\n",
    "plt.figure(figsize=(10, 6))\n",
    "sns.barplot(x='Árbitro', y='Percentage', hue='result', data=counts)\n",
    "plt.title('Percentagem de vitórias da equipa da casa por árbitro\\n(Apenas considerados árbitros com mais de 10 jogos arbitrados)')\n",
    "plt.xlabel('Árbitro')\n",
    "plt.ylabel('Percentagem de ocorrências')\n",
    "plt.xticks(rotation=90)\n",
    "plt.legend(title='Resultado')\n",
    "\n",
    "plt.show()"
   ]
  },
  {
   "cell_type": "code",
   "execution_count": null,
   "id": "6766050f",
   "metadata": {
    "scrolled": true
   },
   "outputs": [],
   "source": [
    "# Testar se há evidência estatística de que a presença do árbitro João Bento influencia a favor da equipa da casa\n",
    "\n",
    "bento = treino[treino['Árbitro'] == 'João Bento']\n",
    "nao_bento = treino[treino['Árbitro'] != 'João Bento']\n",
    "\n",
    "# -> H0: média da dif de golos com joão bento - média da dif de golos sem joão bento = 0 (A equipa da casa não tem vantagem)\n",
    "# -> H1: média da dif de golos com joão bento - média da dif de golos sem joão bento > 0 (A equipa da casa tem vantagem)\n",
    "\n",
    "test_statistic, p_value = ttest_ind(bento['dif'], nao_bento['dif'], alternative='greater')\n",
    "\n",
    "# Print the test statistic and p-value\n",
    "print(\"t-test statistic: {:.2f}\".format(test_statistic))\n",
    "print(\"p-value: {:.4f}\".format(p_value))\n",
    "\n",
    "# t-test statistic: 1.93\n",
    "# p-value: 0.0269\n",
    "\n",
    "# Como p-value < 0.05, rejeitamos H0, o que nos diz que a equipa da casa é beneficiada com a presença do árbitro João Bento\n",
    "\n",
    "# Nota: Este árbitro foi despromovido na época 2020/21"
   ]
  },
  {
   "cell_type": "code",
   "execution_count": null,
   "id": "8a51fe92",
   "metadata": {},
   "outputs": [],
   "source": [
    "# Testar se há evidência estatística de que a presença do árbitro António Nobre influencia a favor da equipa da casa\n",
    "\n",
    "bento = treino[treino['Árbitro'] == 'António Nobre']\n",
    "nao_bento = treino[treino['Árbitro'] != 'António Nobre']\n",
    "\n",
    "# -> H0: média da dif de golos com joão bento - média da dif de golos sem joão bento = 0 (A equipa da casa não tem vantagem)\n",
    "# -> H1: média da dif de golos com joão bento - média da dif de golos sem joão bento > 0 (A equipa da casa tem vantagem)\n",
    "\n",
    "test_statistic, p_value = ttest_ind(bento['dif'], nao_bento['dif'], alternative='greater')\n",
    "\n",
    "# Print the test statistic and p-value\n",
    "print(\"t-test statistic: {:.2f}\".format(test_statistic))\n",
    "print(\"p-value: {:.4f}\".format(p_value))\n",
    "\n",
    "# t-test statistic: 1.93\n",
    "# p-value: 0.0269\n",
    "\n",
    "# Como p-value < 0.05, rejeitamos H0, o que nos diz que a equipa da casa é beneficiada com a presença do árbitro João Bento\n",
    "\n",
    "# Nota: Este árbitro foi despromovido na época 2020/21"
   ]
  },
  {
   "cell_type": "code",
   "execution_count": null,
   "id": "bddec912",
   "metadata": {},
   "outputs": [],
   "source": [
    "treino[treino['Árbitro'] == 'António Nobre']['dif'].mean()"
   ]
  },
  {
   "cell_type": "code",
   "execution_count": null,
   "id": "d1bdef55",
   "metadata": {},
   "outputs": [],
   "source": [
    "treino[treino['Árbitro'] != 'António Nobre']['dif'].mean()"
   ]
  },
  {
   "cell_type": "code",
   "execution_count": null,
   "id": "81936e2c",
   "metadata": {},
   "outputs": [],
   "source": [
    "import seaborn as sns\n",
    "\n",
    "sns.boxplot(x=treino['Assistance'])"
   ]
  },
  {
   "cell_type": "code",
   "execution_count": null,
   "id": "9ff9aa52",
   "metadata": {},
   "outputs": [],
   "source": [
    "treino['Assistance'].describe()"
   ]
  },
  {
   "cell_type": "code",
   "execution_count": null,
   "id": "78f8ead2",
   "metadata": {},
   "outputs": [],
   "source": []
  },
  {
   "cell_type": "code",
   "execution_count": null,
   "id": "c6ffa842",
   "metadata": {},
   "outputs": [],
   "source": [
    "treino['dif'] = treino['goals_home'] - treino['goals_away']\n",
    "treino['xg_dif'] = treino['xG_home'] - treino['xG_away']\n",
    "\n",
    "treino_t1 = treino[['Data','Assistance','dif','xg_dif']].copy()\n",
    "\n",
    "covid = treino_t1[treino_t1['Assistance'] == 0]\n",
    "nao_covid = treino_t1[treino_t1['Assistance'] != 0]"
   ]
  },
  {
   "cell_type": "code",
   "execution_count": null,
   "id": "be3679de",
   "metadata": {},
   "outputs": [],
   "source": [
    "# -> H0: média da dif de golos com espectadores - média da dif de golos sem espectadores = 0\n",
    "# -> H1: média da dif de golos com espectadores - média da dif de golos sem espectadores > 0\n",
    "from scipy.stats import ttest_ind\n",
    "\n",
    "test_statistic, p_value = ttest_ind(covid['dif'], nao_covid['dif'], alternative='greater')\n",
    "\n",
    "# Print the test statistic and p-value\n",
    "print(\"t-test statistic: {:.2f}\".format(test_statistic))\n",
    "print(\"p-value: {:.4f}\".format(p_value))\n",
    "\n",
    "# t-test statistic: -0.72\n",
    "# p-value: 0.7645\n",
    "\n",
    "# Não rejeitamos a hipotese nula, a presença de espectadores não afeta a diferença de golos"
   ]
  },
  {
   "cell_type": "code",
   "execution_count": null,
   "id": "2a315d78",
   "metadata": {},
   "outputs": [],
   "source": [
    "# -> H0: média da dif de golos com espectadores - média da dif de golos sem espectadores = 0\n",
    "# -> H1: média da dif de golos com espectadores - média da dif de golos sem espectadores > 0\n",
    "from scipy.stats import ttest_ind\n",
    "\n",
    "\n",
    "test_statistic, p_value = ttest_ind(covid['xg_dif'], nao_covid['xg_dif'], alternative='greater')\n",
    "\n",
    "# Print the test statistic and p-value\n",
    "print(\"t-test statistic: {:.2f}\".format(test_statistic))\n",
    "print(\"p-value: {:.4f}\".format(p_value))\n",
    "\n",
    "# t-test statistic: -0.67\n",
    "# p-value: 0.7472\n",
    "\n",
    "# Não rejeitamos a hipotese nula"
   ]
  },
  {
   "cell_type": "code",
   "execution_count": null,
   "id": "04d3fc90",
   "metadata": {},
   "outputs": [],
   "source": [
    "treino.loc[treino['Dia'] == 'sáb', 'FDSem'] = 1\n",
    "treino.loc[treino['Dia'] == 'dom', 'FDSem'] = 1\n",
    "treino.loc[treino['FDSem'].isna(), 'FDSem'] = 0"
   ]
  },
  {
   "cell_type": "code",
   "execution_count": null,
   "id": "3b289b47",
   "metadata": {},
   "outputs": [],
   "source": [
    "treino['Noite'].value_counts()"
   ]
  },
  {
   "cell_type": "code",
   "execution_count": null,
   "id": "472d5f82",
   "metadata": {},
   "outputs": [],
   "source": [
    "fim = treino[treino['FDSem'] == 1]\n",
    "nao_fim = treino[treino['FDSem'] != 1]\n",
    "\n",
    "noite = treino[treino['Noite'] == True]\n",
    "nao_noite = treino[treino['Noite'] == False]"
   ]
  },
  {
   "cell_type": "code",
   "execution_count": null,
   "id": "5f62cea9",
   "metadata": {},
   "outputs": [],
   "source": [
    "# -> H0: média da dif de golos com jogo ao fim de semana\n",
    "# -> H1: média da dif de golos com jogo durante a semana\n",
    "from scipy.stats import ttest_ind\n",
    "\n",
    "\n",
    "test_statistic, p_value = ttest_ind(fim['xg_dif'], nao_fim['xg_dif'], alternative='greater')\n",
    "\n",
    "# Print the test statistic and p-value\n",
    "print(\"t-test statistic: {:.2f}\".format(test_statistic))\n",
    "print(\"p-value: {:.4f}\".format(p_value))\n",
    "\n",
    "# t-test statistic: 1.46\n",
    "# p-value: 0.0722"
   ]
  },
  {
   "cell_type": "code",
   "execution_count": null,
   "id": "a239fd49",
   "metadata": {},
   "outputs": [],
   "source": [
    "# -> H0: média da dif de golos com jogo à noite\n",
    "# -> H1: média da dif de golos com jogo durante o dia\n",
    "from scipy.stats import ttest_ind\n",
    "\n",
    "\n",
    "test_statistic, p_value = ttest_ind(noite['xg_dif'], nao_noite['xg_dif'], alternative='greater')\n",
    "\n",
    "# Print the test statistic and p-value\n",
    "print(\"t-test statistic: {:.2f}\".format(test_statistic))\n",
    "print(\"p-value: {:.4f}\".format(p_value))\n",
    "\n",
    "# t-test statistic: -0.03\n",
    "# p-value: 0.5101"
   ]
  },
  {
   "cell_type": "code",
   "execution_count": null,
   "id": "ff2efd3f",
   "metadata": {},
   "outputs": [],
   "source": [
    "treino['formacao_home'].value_counts()"
   ]
  },
  {
   "cell_type": "code",
   "execution_count": null,
   "metadata": {},
   "outputs": [],
   "source": [
    "treino['formacao_home'].isna().sum()"
   ]
  },
  {
   "cell_type": "code",
   "execution_count": 105,
   "id": "6242e6bb",
   "metadata": {},
   "outputs": [],
   "source": [
    "seis = treino[treino['AST'] >= 6]\n",
    "nao_seis = treino[treino['AST'] < 6]\n",
    "\n"
   ]
  },
  {
   "cell_type": "code",
   "execution_count": 106,
   "id": "964a26ad",
   "metadata": {},
   "outputs": [
    {
     "name": "stdout",
     "output_type": "stream",
     "text": [
      "t-test statistic: 18.76\n",
      "p-value: 0.0000\n"
     ]
    }
   ],
   "source": [
    "# -> H0: média da dif de golos com jogo à noite\n",
    "# -> H1: média da dif de golos com jogo durante o dia\n",
    "from scipy.stats import ttest_ind\n",
    "\n",
    "\n",
    "test_statistic, p_value = ttest_ind(seis['xg_dif'], nao_seis['xg_dif'], alternative='greater')\n",
    "\n",
    "# Print the test statistic and p-value\n",
    "print(\"t-test statistic: {:.2f}\".format(test_statistic))\n",
    "print(\"p-value: {:.4f}\".format(p_value))\n",
    "\n",
    "# t-test statistic: -0.03\n",
    "# p-value: 0.5101\n",
    "\n",
    "# tenho de corrigir"
   ]
  }
 ],
 "metadata": {
  "interpreter": {
   "hash": "916dbcbb3f70747c44a77c7bcd40155683ae19c65e1c03b4aa3499c5328201f1"
  },
  "kernelspec": {
   "display_name": "Python 3.9.7 64-bit",
   "language": "python",
   "name": "python3"
  },
  "language_info": {
   "codemirror_mode": {
    "name": "ipython",
    "version": 3
   },
   "file_extension": ".py",
   "mimetype": "text/x-python",
   "name": "python",
   "nbconvert_exporter": "python",
   "pygments_lexer": "ipython3",
   "version": "3.9.7"
  }
 },
 "nbformat": 4,
 "nbformat_minor": 5
}
